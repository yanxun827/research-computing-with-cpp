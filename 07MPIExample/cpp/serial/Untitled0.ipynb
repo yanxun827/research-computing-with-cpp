{
 "metadata": {
  "name": "",
  "signature": "sha256:c95c8355b3c5dcb8ebbc87e1f60a5c615b0ec57be57edfe600e0be429909df41"
 },
 "nbformat": 3,
 "nbformat_minor": 0,
 "worksheets": [
  {
   "cells": [
    {
     "cell_type": "code",
     "collapsed": false,
     "input": [],
     "language": "python",
     "metadata": {},
     "outputs": []
    },
    {
     "cell_type": "code",
     "collapsed": false,
     "input": [
      "import numpy\n",
      "import matplotlib\n",
      "from StringIO import StringIO\n",
      "%matplotlib inline\n"
     ],
     "language": "python",
     "metadata": {},
     "outputs": [],
     "prompt_number": ""
    },
    {
     "cell_type": "code",
     "collapsed": false,
     "input": [
      "\n"
     ],
     "language": "python",
     "metadata": {},
     "outputs": [],
     "prompt_number": ""
    },
    {
     "cell_type": "code",
     "collapsed": false,
     "input": [
      "with open('build/test0.dat') as data:\n",
      "    header=numpy.genfromtxt(StringIO(data.readline()),delimiter=\",\",dtype=int)\n",
      "    rows=header[0]\n",
      "    \n",
      "process_frames=[]\n",
      "for process in range(4):\n",
      "    data=numpy.genfromtxt('build/test'+str(process)+'.dat',delimiter=\",\",skip_header=1)[:,:-1]\n",
      "    lines, columns=data.shape\n",
      "    print lines, columns, rows\n",
      "    process_frames.append(data.reshape((lines/rows,rows,columns)))\n",
      "frames=numpy.concatenate(process_frames, 1)\n",
      "print frames.shape\n",
      "\n",
      "for frame in frames:\n",
      "       matplotlib.pyplot.imshow(frame, vmin=0, vmax=1)\n",
      "       matplotlib.pyplot.show()"
     ],
     "language": "python",
     "metadata": {},
     "outputs": [],
     "prompt_number": ""
    },
    {
     "cell_type": "code",
     "collapsed": false,
     "input": [],
     "language": "python",
     "metadata": {},
     "outputs": [],
     "prompt_number": ""
    },
    {
     "cell_type": "code",
     "collapsed": false,
     "input": [],
     "language": "python",
     "metadata": {},
     "outputs": []
    }
   ],
   "metadata": {}
  }
 ]
}